{
  "nbformat": 4,
  "nbformat_minor": 0,
  "metadata": {
    "colab": {
      "provenance": []
    },
    "kernelspec": {
      "name": "python3",
      "display_name": "Python 3"
    },
    "language_info": {
      "name": "python"
    }
  },
  "cells": [
    {
      "cell_type": "code",
      "source": [
        "from sklearn.model_selection import train_test_split\n",
        "import pandas as pd"
      ],
      "metadata": {
        "id": "0ByVvh0SUiOB"
      },
      "execution_count": 1,
      "outputs": []
    },
    {
      "cell_type": "code",
      "execution_count": 9,
      "metadata": {
        "colab": {
          "base_uri": "https://localhost:8080/"
        },
        "id": "_PzNnNhXUQwW",
        "outputId": "46b87618-a7b4-4b05-ea2d-c4e8a659358e"
      },
      "outputs": [
        {
          "output_type": "stream",
          "name": "stdout",
          "text": [
            "Training set size: 33593\n",
            "Validation set size: 4199\n",
            "Test set size: 4200\n"
          ]
        }
      ],
      "source": [
        "# Load the dataset\n",
        "df = pd.read_csv('wikidata5m_multiling_en2_42k_desc.csv')\n",
        "\n",
        "# Split the dataset into training and a temporary set with an 80:20 ratio\n",
        "train, temp = train_test_split(df, test_size=0.2, random_state=42)\n",
        "\n",
        "# Split the temporary set into validation and test sets with a 50:50 ratio\n",
        "valid, test = train_test_split(temp, test_size=0.5, random_state=42)\n",
        "\n",
        "# Save the training, validation, and test sets to new CSV files\n",
        "train.to_csv('wikidata5m_multiling_en2_42k_desc_train.csv', index=False)\n",
        "valid.to_csv('wikidata5m_multiling_en2_42k_desc_valid.csv', index=False)\n",
        "test.to_csv('wikidata5m_multiling_en2_42k_desc_test.csv', index=False)\n",
        "\n",
        "# Print the sizes of the training, validation, and test sets\n",
        "print(f\"Training set size: {len(train)}\")\n",
        "print(f\"Validation set size: {len(valid)}\")\n",
        "print(f\"Test set size: {len(test)}\")"
      ]
    },
    {
      "cell_type": "code",
      "source": [],
      "metadata": {
        "id": "-wr9GX9Efi-z"
      },
      "execution_count": null,
      "outputs": []
    },
    {
      "cell_type": "code",
      "source": [
        "import pandas as pd\n",
        "\n",
        "# Load the TSV file\n",
        "tsv_file = 'wikidata5m_top200_en_42k_descriptions_truncated.tsv'\n",
        "csv_file = 'wikidata5m_top200_en_42k_descriptions_truncated.csv'\n",
        "\n",
        "# Read TSV and write to CSV\n",
        "df = pd.read_csv(tsv_file, sep='\\t')\n",
        "df.to_csv(csv_file, index=False)\n",
        "\n",
        "print(f\"✅ Converted {tsv_file} to {csv_file}\")\n"
      ],
      "metadata": {
        "colab": {
          "base_uri": "https://localhost:8080/"
        },
        "id": "tszUoQfYfjhh",
        "outputId": "728188cf-d695-463b-89d0-65460d4f40e8"
      },
      "execution_count": 4,
      "outputs": [
        {
          "output_type": "stream",
          "name": "stdout",
          "text": [
            "✅ Converted wikidata5m_top200_en_42k_descriptions_truncated.tsv to wikidata5m_top200_en_42k_descriptions_truncated.csv\n"
          ]
        }
      ]
    },
    {
      "cell_type": "code",
      "source": [
        "# Load the dataset\n",
        "df = pd.read_csv('wikidata5m_top200_ru_42k_descriptions_truncated.csv')\n",
        "\n",
        "# Split the dataset into training and a temporary set with an 80:20 ratio\n",
        "train, temp = train_test_split(df, test_size=0.2, random_state=42)\n",
        "\n",
        "# Split the temporary set into validation and test sets with a 50:50 ratio\n",
        "valid, test = train_test_split(temp, test_size=0.5, random_state=42)\n",
        "\n",
        "# Save the training, validation, and test sets to new CSV files\n",
        "train.to_csv('wikidata5m_multiling_ru_42k_descriptions_truncated_train.csv', index=False)\n",
        "valid.to_csv('wikidata5m_multiling_ru_42k_descriptions_truncated_valid.csv', index=False)\n",
        "test.to_csv('wikidata5m_multiling_ru_42k_descriptions_truncated_test.csv', index=False)\n",
        "\n",
        "# Print the sizes of the training, validation, and test sets\n",
        "print(f\"Training set size: {len(train)}\")\n",
        "print(f\"Validation set size: {len(valid)}\")\n",
        "print(f\"Test set size: {len(test)}\")"
      ],
      "metadata": {
        "colab": {
          "base_uri": "https://localhost:8080/"
        },
        "id": "3y4yd0RQfVq6",
        "outputId": "a15c98e7-c114-4118-8f5e-7adfe74573ee"
      },
      "execution_count": 7,
      "outputs": [
        {
          "output_type": "stream",
          "name": "stdout",
          "text": [
            "Training set size: 33552\n",
            "Validation set size: 4194\n",
            "Test set size: 4194\n"
          ]
        }
      ]
    },
    {
      "cell_type": "code",
      "source": [
        "import pandas as pd\n",
        "import matplotlib.pyplot as plt\n",
        "\n",
        "def count_unique_entities_csv(file_path):\n",
        "    df = pd.read_csv(file_path)\n",
        "    subjects = set(df['subject_id'])\n",
        "    objects = set(df['object_id'])\n",
        "    return len(subjects.union(objects))\n",
        "\n",
        "def count_unique_subjects_csv(file_path):\n",
        "    df = pd.read_csv(file_path)\n",
        "    return df['subject_id'].nunique()\n",
        "\n",
        "def count_unique_objects_csv(file_path):\n",
        "    df = pd.read_csv(file_path)\n",
        "    return df['object_id'].nunique()\n",
        "\n",
        "def count_unique_relations_csv(file_path):\n",
        "    df = pd.read_csv(file_path)\n",
        "    return df['relation_id'].nunique()\n",
        "\n",
        "def count_unique_triples_csv(file_path):\n",
        "    df = pd.read_csv(file_path)\n",
        "    return df[['subject_id', 'relation_id', 'object_id']].drop_duplicates().shape[0]\n",
        "\n",
        "def plot_relation_distribution_csv(file_path):\n",
        "    df = pd.read_csv(file_path)\n",
        "    relation_counts = df['relation_id'].value_counts()\n",
        "\n",
        "    plt.figure(figsize=(10, 8))\n",
        "    plt.hist(relation_counts.values, bins=20, color='green', edgecolor='black')\n",
        "    plt.xlabel('Number of Triples per Relation')\n",
        "    plt.ylabel('Number of Relations')\n",
        "    plt.title('Histogram of Relation Occurrences in Knowledge Graph')\n",
        "    plt.grid(True)\n",
        "    plt.show()\n"
      ],
      "metadata": {
        "id": "7zfCtanZg6CG"
      },
      "execution_count": 10,
      "outputs": []
    },
    {
      "cell_type": "code",
      "source": [
        "file_path = 'wikidata5m_multiling_ru_42k_descriptions_truncated_test.csv'\n",
        "\n",
        "print(\"Unique triples:\", count_unique_triples_csv(file_path))\n",
        "print(\"Unique entities:\", count_unique_entities_csv(file_path))\n",
        "print(\"Unique relations:\", count_unique_relations_csv(file_path))\n",
        "print(\"Unique subjects:\", count_unique_subjects_csv(file_path))\n",
        "print(\"Unique objects:\", count_unique_objects_csv(file_path))\n",
        "print(\"Unique relations:\", count_unique_relations_csv(file_path))\n",
        "\n",
        "\n",
        "plot_relation_distribution_csv(file_path)\n"
      ],
      "metadata": {
        "colab": {
          "base_uri": "https://localhost:8080/",
          "height": 749
        },
        "id": "KQlO_svVg_NJ",
        "outputId": "de6ce320-e95f-4e77-ebbc-8daeefe3f9cf"
      },
      "execution_count": 22,
      "outputs": [
        {
          "output_type": "stream",
          "name": "stdout",
          "text": [
            "Unique triples: 4200\n",
            "Unique entities: 6689\n",
            "Unique relations: 200\n",
            "Unique subjects: 4194\n",
            "Unique objects: 2510\n",
            "Unique relations: 200\n"
          ]
        },
        {
          "output_type": "display_data",
          "data": {
            "text/plain": [
              "<Figure size 1000x800 with 1 Axes>"
            ],
            "image/png": "[encoded data removed]"
          },
          "metadata": {}
        }
      ]
    },
    {
      "cell_type": "code",
      "source": [
        "file_path_full = 'wikidata5m_top200_ru_42k_descriptions_truncated.csv'\n",
        "\n",
        "print(\"\\n--- FULL DATASET STATISTICS ---\")\n",
        "print(\"Unique triples:\", count_unique_triples_csv(file_path_full))\n",
        "print(\"Unique entities:\", count_unique_entities_csv(file_path_full))\n",
        "print(\"Unique relations:\", count_unique_relations_csv(file_path_full))\n",
        "print(\"Unique subjects:\", count_unique_subjects_csv(file_path_full))\n",
        "print(\"Unique objects:\", count_unique_objects_csv(file_path_full))\n",
        "\n",
        "plot_relation_distribution_csv(file_path_full)\n"
      ],
      "metadata": {
        "colab": {
          "base_uri": "https://localhost:8080/",
          "height": 766
        },
        "id": "gGWAAbrR-cwS",
        "outputId": "83c18fb1-ebc8-4ad8-d0f9-bd022b83bdc1"
      },
      "execution_count": 13,
      "outputs": [
        {
          "output_type": "stream",
          "name": "stdout",
          "text": [
            "\n",
            "--- FULL DATASET STATISTICS ---\n",
            "Unique triples: 41940\n",
            "Unique entities: 52949\n",
            "Unique relations: 200\n",
            "Unique subjects: 39281\n",
            "Unique objects: 15317\n"
          ]
        },
        {
          "output_type": "display_data",
          "data": {
            "text/plain": [
              "<Figure size 1000x800 with 1 Axes>"
            ],
            "image/png": "[encoded data removed]"
          },
          "metadata": {}
        }
      ]
    },
    {
      "cell_type": "code",
      "source": [
        "import pandas as pd\n",
        "\n",
        "# Replace with your actual file name\n",
        "input_file = 'relation_stats_top200_en_de_ru.tsv'\n",
        "output_file = 'trimmed_file.tsv'\n",
        "\n",
        "# Load the TSV file\n",
        "df = pd.read_csv(input_file, sep='\\t', header=None)\n",
        "\n",
        "# Keep only the first 4 columns\n",
        "df_trimmed = df.iloc[:, :4]\n",
        "\n",
        "# Save the trimmed DataFrame back to a TSV file\n",
        "df_trimmed.to_csv(output_file, sep='\\t', index=False, header=False)\n",
        "\n",
        "print(f\"Trimmed file saved as: {output_file}\")\n"
      ],
      "metadata": {
        "colab": {
          "base_uri": "https://localhost:8080/"
        },
        "id": "ydy19pZ7xgsE",
        "outputId": "e9288fd5-1d8d-416a-d457-09ca7309c2db"
      },
      "execution_count": null,
      "outputs": [
        {
          "output_type": "stream",
          "name": "stdout",
          "text": [
            "Trimmed file saved as: trimmed_file.tsv\n"
          ]
        }
      ]
    },
    {
      "cell_type": "markdown",
      "source": [],
      "metadata": {
        "id": "AGQ8uvBktaui"
      }
    },
    {
      "cell_type": "code",
      "source": [
        "\n",
        "import nltk\n",
        "from nltk.tokenize import sent_tokenize\n",
        "import csv\n",
        "\n",
        "nltk.download(\"punkt\")            # one global download is sufficient\n",
        "\n",
        "def keep_first_two_sentences(text, lang):\n",
        "    sentences = sent_tokenize(text, language=lang)\n",
        "    return \" \".join(sentences[:2])\n",
        "\n",
        "# Set file paths (example for German)\n",
        "lang_code    = \"en\"                                    # \"en\", \"de\", or \"ru\"\n",
        "input_file   = f\"wikidata5m_top200_{lang_code}_42k_descriptions.tsv\"\n",
        "output_file  = f\"wikidata5m_top200_{lang_code}_42k_descriptions_truncated.tsv\"\n",
        "\n",
        "language_map = {\"en\": \"english\", \"de\": \"german\", \"ru\": \"russian\"}\n",
        "token_lang   = language_map[lang_code]\n",
        "\n",
        "with open(input_file, encoding=\"utf-8\") as infile, \\\n",
        "     open(output_file, \"w\", encoding=\"utf-8\", newline=\"\") as outfile:\n",
        "\n",
        "    reader = csv.reader(infile, delimiter=\"\\t\")\n",
        "    writer = csv.writer(outfile, delimiter=\"\\t\")\n",
        "\n",
        "    header = next(reader)\n",
        "    writer.writerow(header)\n",
        "\n",
        "    for row in reader:\n",
        "        if len(row) != 8:\n",
        "            continue                                   # skip malformed rows\n",
        "        subj_desc = keep_first_two_sentences(row[6], token_lang)\n",
        "        obj_desc  = keep_first_two_sentences(row[7], token_lang)\n",
        "        writer.writerow(row[:6] + [subj_desc, obj_desc])\n",
        "\n",
        "print(\"✅ Truncated dataset saved:\", output_file)\n"
      ],
      "metadata": {
        "colab": {
          "base_uri": "https://localhost:8080/",
          "height": 755
        },
        "id": "ZMxJMhX7j0Y7",
        "outputId": "2d695931-5a7d-4f78-8fd7-4b081893a007"
      },
      "execution_count": 3,
      "outputs": [
        {
          "output_type": "stream",
          "name": "stderr",
          "text": [
            "[nltk_data] Downloading package punkt to /root/nltk_data...\n",
            "[nltk_data]   Package punkt is already up-to-date!\n"
          ]
        },
        {
          "output_type": "error",
          "ename": "LookupError",
          "evalue": "\n**********************************************************************\n  Resource \u001b[93mpunkt_tab\u001b[0m not found.\n  Please use the NLTK Downloader to obtain the resource:\n\n  \u001b[31m>>> import nltk\n  >>> nltk.download('punkt_tab')\n  \u001b[0m\n  For more information see: https://www.nltk.org/data.html\n\n  Attempted to load \u001b[93mtokenizers/punkt_tab/english/\u001b[0m\n\n  Searched in:\n    - '/root/nltk_data'\n    - '/usr/nltk_data'\n    - '/usr/share/nltk_data'\n    - '/usr/lib/nltk_data'\n    - '/usr/share/nltk_data'\n    - '/usr/local/share/nltk_data'\n    - '/usr/lib/nltk_data'\n    - '/usr/local/lib/nltk_data'\n**********************************************************************\n",
          "traceback": [
            "\u001b[0;31m---------------------------------------------------------------------------\u001b[0m",
            "\u001b[0;31mLookupError\u001b[0m                               Traceback (most recent call last)",
            "\u001b[0;32m/tmp/ipython-input-3-3570033923.py\u001b[0m in \u001b[0;36m<cell line: 0>\u001b[0;34m()\u001b[0m\n\u001b[1;32m     29\u001b[0m         \u001b[0;32mif\u001b[0m \u001b[0mlen\u001b[0m\u001b[0;34m(\u001b[0m\u001b[0mrow\u001b[0m\u001b[0;34m)\u001b[0m \u001b[0;34m!=\u001b[0m \u001b[0;36m8\u001b[0m\u001b[0;34m:\u001b[0m\u001b[0;34m\u001b[0m\u001b[0;34m\u001b[0m\u001b[0m\n\u001b[1;32m     30\u001b[0m             \u001b[0;32mcontinue\u001b[0m                                   \u001b[0;31m# skip malformed rows\u001b[0m\u001b[0;34m\u001b[0m\u001b[0;34m\u001b[0m\u001b[0m\n\u001b[0;32m---> 31\u001b[0;31m         \u001b[0msubj_desc\u001b[0m \u001b[0;34m=\u001b[0m \u001b[0mkeep_first_two_sentences\u001b[0m\u001b[0;34m(\u001b[0m\u001b[0mrow\u001b[0m\u001b[0;34m[\u001b[0m\u001b[0;36m6\u001b[0m\u001b[0;34m]\u001b[0m\u001b[0;34m,\u001b[0m \u001b[0mtoken_lang\u001b[0m\u001b[0;34m)\u001b[0m\u001b[0;34m\u001b[0m\u001b[0;34m\u001b[0m\u001b[0m\n\u001b[0m\u001b[1;32m     32\u001b[0m         \u001b[0mobj_desc\u001b[0m  \u001b[0;34m=\u001b[0m \u001b[0mkeep_first_two_sentences\u001b[0m\u001b[0;34m(\u001b[0m\u001b[0mrow\u001b[0m\u001b[0;34m[\u001b[0m\u001b[0;36m7\u001b[0m\u001b[0;34m]\u001b[0m\u001b[0;34m,\u001b[0m \u001b[0mtoken_lang\u001b[0m\u001b[0;34m)\u001b[0m\u001b[0;34m\u001b[0m\u001b[0;34m\u001b[0m\u001b[0m\n\u001b[1;32m     33\u001b[0m         \u001b[0mwriter\u001b[0m\u001b[0;34m.\u001b[0m\u001b[0mwriterow\u001b[0m\u001b[0;34m(\u001b[0m\u001b[0mrow\u001b[0m\u001b[0;34m[\u001b[0m\u001b[0;34m:\u001b[0m\u001b[0;36m6\u001b[0m\u001b[0;34m]\u001b[0m \u001b[0;34m+\u001b[0m \u001b[0;34m[\u001b[0m\u001b[0msubj_desc\u001b[0m\u001b[0;34m,\u001b[0m \u001b[0mobj_desc\u001b[0m\u001b[0;34m]\u001b[0m\u001b[0;34m)\u001b[0m\u001b[0;34m\u001b[0m\u001b[0;34m\u001b[0m\u001b[0m\n",
            "\u001b[0;32m/tmp/ipython-input-3-3570033923.py\u001b[0m in \u001b[0;36mkeep_first_two_sentences\u001b[0;34m(text, lang)\u001b[0m\n\u001b[1;32m      6\u001b[0m \u001b[0;34m\u001b[0m\u001b[0m\n\u001b[1;32m      7\u001b[0m \u001b[0;32mdef\u001b[0m \u001b[0mkeep_first_two_sentences\u001b[0m\u001b[0;34m(\u001b[0m\u001b[0mtext\u001b[0m\u001b[0;34m,\u001b[0m \u001b[0mlang\u001b[0m\u001b[0;34m)\u001b[0m\u001b[0;34m:\u001b[0m\u001b[0;34m\u001b[0m\u001b[0;34m\u001b[0m\u001b[0m\n\u001b[0;32m----> 8\u001b[0;31m     \u001b[0msentences\u001b[0m \u001b[0;34m=\u001b[0m \u001b[0msent_tokenize\u001b[0m\u001b[0;34m(\u001b[0m\u001b[0mtext\u001b[0m\u001b[0;34m,\u001b[0m \u001b[0mlanguage\u001b[0m\u001b[0;34m=\u001b[0m\u001b[0mlang\u001b[0m\u001b[0;34m)\u001b[0m\u001b[0;34m\u001b[0m\u001b[0;34m\u001b[0m\u001b[0m\n\u001b[0m\u001b[1;32m      9\u001b[0m     \u001b[0;32mreturn\u001b[0m \u001b[0;34m\" \"\u001b[0m\u001b[0;34m.\u001b[0m\u001b[0mjoin\u001b[0m\u001b[0;34m(\u001b[0m\u001b[0msentences\u001b[0m\u001b[0;34m[\u001b[0m\u001b[0;34m:\u001b[0m\u001b[0;36m2\u001b[0m\u001b[0;34m]\u001b[0m\u001b[0;34m)\u001b[0m\u001b[0;34m\u001b[0m\u001b[0;34m\u001b[0m\u001b[0m\n\u001b[1;32m     10\u001b[0m \u001b[0;34m\u001b[0m\u001b[0m\n",
            "\u001b[0;32m/usr/local/lib/python3.11/dist-packages/nltk/tokenize/__init__.py\u001b[0m in \u001b[0;36msent_tokenize\u001b[0;34m(text, language)\u001b[0m\n\u001b[1;32m    117\u001b[0m     \u001b[0;34m:\u001b[0m\u001b[0mparam\u001b[0m \u001b[0mlanguage\u001b[0m\u001b[0;34m:\u001b[0m \u001b[0mthe\u001b[0m \u001b[0mmodel\u001b[0m \u001b[0mname\u001b[0m \u001b[0;32min\u001b[0m \u001b[0mthe\u001b[0m \u001b[0mPunkt\u001b[0m \u001b[0mcorpus\u001b[0m\u001b[0;34m\u001b[0m\u001b[0;34m\u001b[0m\u001b[0m\n\u001b[1;32m    118\u001b[0m     \"\"\"\n\u001b[0;32m--> 119\u001b[0;31m     \u001b[0mtokenizer\u001b[0m \u001b[0;34m=\u001b[0m \u001b[0m_get_punkt_tokenizer\u001b[0m\u001b[0;34m(\u001b[0m\u001b[0mlanguage\u001b[0m\u001b[0;34m)\u001b[0m\u001b[0;34m\u001b[0m\u001b[0;34m\u001b[0m\u001b[0m\n\u001b[0m\u001b[1;32m    120\u001b[0m     \u001b[0;32mreturn\u001b[0m \u001b[0mtokenizer\u001b[0m\u001b[0;34m.\u001b[0m\u001b[0mtokenize\u001b[0m\u001b[0;34m(\u001b[0m\u001b[0mtext\u001b[0m\u001b[0;34m)\u001b[0m\u001b[0;34m\u001b[0m\u001b[0;34m\u001b[0m\u001b[0m\n\u001b[1;32m    121\u001b[0m \u001b[0;34m\u001b[0m\u001b[0m\n",
            "\u001b[0;32m/usr/local/lib/python3.11/dist-packages/nltk/tokenize/__init__.py\u001b[0m in \u001b[0;36m_get_punkt_tokenizer\u001b[0;34m(language)\u001b[0m\n\u001b[1;32m    103\u001b[0m     \u001b[0;34m:\u001b[0m\u001b[0mtype\u001b[0m \u001b[0mlanguage\u001b[0m\u001b[0;34m:\u001b[0m \u001b[0mstr\u001b[0m\u001b[0;34m\u001b[0m\u001b[0;34m\u001b[0m\u001b[0m\n\u001b[1;32m    104\u001b[0m     \"\"\"\n\u001b[0;32m--> 105\u001b[0;31m     \u001b[0;32mreturn\u001b[0m \u001b[0mPunktTokenizer\u001b[0m\u001b[0;34m(\u001b[0m\u001b[0mlanguage\u001b[0m\u001b[0;34m)\u001b[0m\u001b[0;34m\u001b[0m\u001b[0;34m\u001b[0m\u001b[0m\n\u001b[0m\u001b[1;32m    106\u001b[0m \u001b[0;34m\u001b[0m\u001b[0m\n\u001b[1;32m    107\u001b[0m \u001b[0;34m\u001b[0m\u001b[0m\n",
            "\u001b[0;32m/usr/local/lib/python3.11/dist-packages/nltk/tokenize/punkt.py\u001b[0m in \u001b[0;36m__init__\u001b[0;34m(self, lang)\u001b[0m\n\u001b[1;32m   1742\u001b[0m     \u001b[0;32mdef\u001b[0m \u001b[0m__init__\u001b[0m\u001b[0;34m(\u001b[0m\u001b[0mself\u001b[0m\u001b[0;34m,\u001b[0m \u001b[0mlang\u001b[0m\u001b[0;34m=\u001b[0m\u001b[0;34m\"english\"\u001b[0m\u001b[0;34m)\u001b[0m\u001b[0;34m:\u001b[0m\u001b[0;34m\u001b[0m\u001b[0;34m\u001b[0m\u001b[0m\n\u001b[1;32m   1743\u001b[0m         \u001b[0mPunktSentenceTokenizer\u001b[0m\u001b[0;34m.\u001b[0m\u001b[0m__init__\u001b[0m\u001b[0;34m(\u001b[0m\u001b[0mself\u001b[0m\u001b[0;34m)\u001b[0m\u001b[0;34m\u001b[0m\u001b[0;34m\u001b[0m\u001b[0m\n\u001b[0;32m-> 1744\u001b[0;31m         \u001b[0mself\u001b[0m\u001b[0;34m.\u001b[0m\u001b[0mload_lang\u001b[0m\u001b[0;34m(\u001b[0m\u001b[0mlang\u001b[0m\u001b[0;34m)\u001b[0m\u001b[0;34m\u001b[0m\u001b[0;34m\u001b[0m\u001b[0m\n\u001b[0m\u001b[1;32m   1745\u001b[0m \u001b[0;34m\u001b[0m\u001b[0m\n\u001b[1;32m   1746\u001b[0m     \u001b[0;32mdef\u001b[0m \u001b[0mload_lang\u001b[0m\u001b[0;34m(\u001b[0m\u001b[0mself\u001b[0m\u001b[0;34m,\u001b[0m \u001b[0mlang\u001b[0m\u001b[0;34m=\u001b[0m\u001b[0;34m\"english\"\u001b[0m\u001b[0;34m)\u001b[0m\u001b[0;34m:\u001b[0m\u001b[0;34m\u001b[0m\u001b[0;34m\u001b[0m\u001b[0m\n",
            "\u001b[0;32m/usr/local/lib/python3.11/dist-packages/nltk/tokenize/punkt.py\u001b[0m in \u001b[0;36mload_lang\u001b[0;34m(self, lang)\u001b[0m\n\u001b[1;32m   1747\u001b[0m         \u001b[0;32mfrom\u001b[0m \u001b[0mnltk\u001b[0m\u001b[0;34m.\u001b[0m\u001b[0mdata\u001b[0m \u001b[0;32mimport\u001b[0m \u001b[0mfind\u001b[0m\u001b[0;34m\u001b[0m\u001b[0;34m\u001b[0m\u001b[0m\n\u001b[1;32m   1748\u001b[0m \u001b[0;34m\u001b[0m\u001b[0m\n\u001b[0;32m-> 1749\u001b[0;31m         \u001b[0mlang_dir\u001b[0m \u001b[0;34m=\u001b[0m \u001b[0mfind\u001b[0m\u001b[0;34m(\u001b[0m\u001b[0;34mf\"tokenizers/punkt_tab/{lang}/\"\u001b[0m\u001b[0;34m)\u001b[0m\u001b[0;34m\u001b[0m\u001b[0;34m\u001b[0m\u001b[0m\n\u001b[0m\u001b[1;32m   1750\u001b[0m         \u001b[0mself\u001b[0m\u001b[0;34m.\u001b[0m\u001b[0m_params\u001b[0m \u001b[0;34m=\u001b[0m \u001b[0mload_punkt_params\u001b[0m\u001b[0;34m(\u001b[0m\u001b[0mlang_dir\u001b[0m\u001b[0;34m)\u001b[0m\u001b[0;34m\u001b[0m\u001b[0;34m\u001b[0m\u001b[0m\n\u001b[1;32m   1751\u001b[0m         \u001b[0mself\u001b[0m\u001b[0;34m.\u001b[0m\u001b[0m_lang\u001b[0m \u001b[0;34m=\u001b[0m \u001b[0mlang\u001b[0m\u001b[0;34m\u001b[0m\u001b[0;34m\u001b[0m\u001b[0m\n",
            "\u001b[0;32m/usr/local/lib/python3.11/dist-packages/nltk/data.py\u001b[0m in \u001b[0;36mfind\u001b[0;34m(resource_name, paths)\u001b[0m\n\u001b[1;32m    577\u001b[0m     \u001b[0msep\u001b[0m \u001b[0;34m=\u001b[0m \u001b[0;34m\"*\"\u001b[0m \u001b[0;34m*\u001b[0m \u001b[0;36m70\u001b[0m\u001b[0;34m\u001b[0m\u001b[0;34m\u001b[0m\u001b[0m\n\u001b[1;32m    578\u001b[0m     \u001b[0mresource_not_found\u001b[0m \u001b[0;34m=\u001b[0m \u001b[0;34mf\"\\n{sep}\\n{msg}\\n{sep}\\n\"\u001b[0m\u001b[0;34m\u001b[0m\u001b[0;34m\u001b[0m\u001b[0m\n\u001b[0;32m--> 579\u001b[0;31m     \u001b[0;32mraise\u001b[0m \u001b[0mLookupError\u001b[0m\u001b[0;34m(\u001b[0m\u001b[0mresource_not_found\u001b[0m\u001b[0;34m)\u001b[0m\u001b[0;34m\u001b[0m\u001b[0;34m\u001b[0m\u001b[0m\n\u001b[0m\u001b[1;32m    580\u001b[0m \u001b[0;34m\u001b[0m\u001b[0m\n\u001b[1;32m    581\u001b[0m \u001b[0;34m\u001b[0m\u001b[0m\n",
            "\u001b[0;31mLookupError\u001b[0m: \n**********************************************************************\n  Resource \u001b[93mpunkt_tab\u001b[0m not found.\n  Please use the NLTK Downloader to obtain the resource:\n\n  \u001b[31m>>> import nltk\n  >>> nltk.download('punkt_tab')\n  \u001b[0m\n  For more information see: https://www.nltk.org/data.html\n\n  Attempted to load \u001b[93mtokenizers/punkt_tab/english/\u001b[0m\n\n  Searched in:\n    - '/root/nltk_data'\n    - '/usr/nltk_data'\n    - '/usr/share/nltk_data'\n    - '/usr/lib/nltk_data'\n    - '/usr/share/nltk_data'\n    - '/usr/local/share/nltk_data'\n    - '/usr/lib/nltk_data'\n    - '/usr/local/lib/nltk_data'\n**********************************************************************\n"
          ]
        }
      ]
    },
    {
      "cell_type": "markdown",
      "source": [
        "THIS ONE!:"
      ],
      "metadata": {
        "id": "Tt2LUO0qB1Fp"
      }
    },
    {
      "cell_type": "code",
      "source": [
        "import nltk\n",
        "from nltk.tokenize import sent_tokenize\n",
        "import csv\n",
        "\n",
        "nltk.download('punkt')\n",
        "nltk.download('punkt_tab')\n",
        "\n",
        "# Define your function to keep first two sentences\n",
        "def keep_first_two_sentences(text):\n",
        "    sentences = sent_tokenize(text)\n",
        "    return ' '.join(sentences[:2])\n",
        "\n",
        "# Set file paths\n",
        "input_file = 'wikidata5m_top200_en_42k_descriptions.tsv'\n",
        "output_file = 'wikidata5m_top200_en_42k_descriptions_truncated.tsv'\n",
        "\n",
        "# Process the dataset\n",
        "with open(input_file, 'r', encoding='utf-8') as infile, \\\n",
        "     open(output_file, 'w', encoding='utf-8', newline='') as outfile:\n",
        "\n",
        "    reader = csv.reader(infile, delimiter='\\t')\n",
        "    writer = csv.writer(outfile, delimiter='\\t')\n",
        "\n",
        "    header = next(reader)\n",
        "    writer.writerow(header)\n",
        "\n",
        "    for row in reader:\n",
        "        if len(row) != 8:\n",
        "            # Skip malformed rows\n",
        "            continue\n",
        "        subj_desc = keep_first_two_sentences(row[6])\n",
        "        obj_desc  = keep_first_two_sentences(row[7])\n",
        "        writer.writerow(row[:6] + [subj_desc, obj_desc])\n",
        "\n",
        "print(\"✅ The truncated dataset has been saved to:\", output_file)"
      ],
      "metadata": {
        "colab": {
          "base_uri": "https://localhost:8080/"
        },
        "id": "poIPMhCAtbAu",
        "outputId": "d7b3f917-95ac-415c-93bd-ea1c98e1ba0f"
      },
      "execution_count": 5,
      "outputs": [
        {
          "output_type": "stream",
          "name": "stderr",
          "text": [
            "[nltk_data] Downloading package punkt to /root/nltk_data...\n",
            "[nltk_data]   Package punkt is already up-to-date!\n",
            "[nltk_data] Downloading package punkt_tab to /root/nltk_data...\n",
            "[nltk_data]   Unzipping tokenizers/punkt_tab.zip.\n"
          ]
        },
        {
          "output_type": "stream",
          "name": "stdout",
          "text": [
            "✅ The truncated dataset has been saved to: wikidata5m_top200_en_42k_descriptions_truncated.tsv\n"
          ]
        }
      ]
    },
    {
      "cell_type": "code",
      "source": [
        "import nltk\n",
        "from nltk.tokenize import sent_tokenize\n",
        "import csv\n",
        "\n",
        "nltk.download(\"punkt\")            # one global download is sufficient\n",
        "\n",
        "def keep_first_two_sentences(text, lang):\n",
        "    sentences = sent_tokenize(text, language=lang)\n",
        "    return \" \".join(sentences[:2])\n",
        "\n",
        "# Set file paths (example for German)\n",
        "lang_code    = \"ru\"                                    # \"en\", \"de\", or \"ru\"\n",
        "input_file   = f\"wikidata5m_top200_{lang_code}_42k_descriptions.tsv\"\n",
        "output_file  = f\"wikidata5m_top200_{lang_code}_42k_descriptions_truncated.tsv\"\n",
        "\n",
        "language_map = {\"en\": \"english\", \"de\": \"german\", \"ru\": \"russian\"}\n",
        "token_lang   = language_map[lang_code]\n",
        "\n",
        "with open(input_file, encoding=\"utf-8\") as infile, \\\n",
        "     open(output_file, \"w\", encoding=\"utf-8\", newline=\"\") as outfile:\n",
        "\n",
        "    reader = csv.reader(infile, delimiter=\"\\t\")\n",
        "    writer = csv.writer(outfile, delimiter=\"\\t\")\n",
        "\n",
        "    header = next(reader)\n",
        "    writer.writerow(header)\n",
        "\n",
        "    for row in reader:\n",
        "        if len(row) != 8:\n",
        "            continue                                   # skip malformed rows\n",
        "        subj_desc = keep_first_two_sentences(row[6], token_lang)\n",
        "        obj_desc  = keep_first_two_sentences(row[7], token_lang)\n",
        "        writer.writerow(row[:6] + [subj_desc, obj_desc])\n",
        "\n",
        "print(\"✅ Truncated dataset saved:\", output_file)\n"
      ],
      "metadata": {
        "colab": {
          "base_uri": "https://localhost:8080/",
          "height": 755
        },
        "id": "nyD9GEjRyGFl",
        "outputId": "8e480313-b9ad-4782-dc83-68b4f4e24c62"
      },
      "execution_count": 2,
      "outputs": [
        {
          "output_type": "stream",
          "name": "stderr",
          "text": [
            "[nltk_data] Downloading package punkt to /root/nltk_data...\n",
            "[nltk_data]   Unzipping tokenizers/punkt.zip.\n"
          ]
        },
        {
          "output_type": "error",
          "ename": "LookupError",
          "evalue": "\n**********************************************************************\n  Resource \u001b[93mpunkt_tab\u001b[0m not found.\n  Please use the NLTK Downloader to obtain the resource:\n\n  \u001b[31m>>> import nltk\n  >>> nltk.download('punkt_tab')\n  \u001b[0m\n  For more information see: https://www.nltk.org/data.html\n\n  Attempted to load \u001b[93mtokenizers/punkt_tab/russian/\u001b[0m\n\n  Searched in:\n    - '/root/nltk_data'\n    - '/usr/nltk_data'\n    - '/usr/share/nltk_data'\n    - '/usr/lib/nltk_data'\n    - '/usr/share/nltk_data'\n    - '/usr/local/share/nltk_data'\n    - '/usr/lib/nltk_data'\n    - '/usr/local/lib/nltk_data'\n**********************************************************************\n",
          "traceback": [
            "\u001b[0;31m---------------------------------------------------------------------------\u001b[0m",
            "\u001b[0;31mLookupError\u001b[0m                               Traceback (most recent call last)",
            "\u001b[0;32m/tmp/ipython-input-2-1921213924.py\u001b[0m in \u001b[0;36m<cell line: 0>\u001b[0;34m()\u001b[0m\n\u001b[1;32m     29\u001b[0m         \u001b[0;32mif\u001b[0m \u001b[0mlen\u001b[0m\u001b[0;34m(\u001b[0m\u001b[0mrow\u001b[0m\u001b[0;34m)\u001b[0m \u001b[0;34m!=\u001b[0m \u001b[0;36m8\u001b[0m\u001b[0;34m:\u001b[0m\u001b[0;34m\u001b[0m\u001b[0;34m\u001b[0m\u001b[0m\n\u001b[1;32m     30\u001b[0m             \u001b[0;32mcontinue\u001b[0m                                   \u001b[0;31m# skip malformed rows\u001b[0m\u001b[0;34m\u001b[0m\u001b[0;34m\u001b[0m\u001b[0m\n\u001b[0;32m---> 31\u001b[0;31m         \u001b[0msubj_desc\u001b[0m \u001b[0;34m=\u001b[0m \u001b[0mkeep_first_two_sentences\u001b[0m\u001b[0;34m(\u001b[0m\u001b[0mrow\u001b[0m\u001b[0;34m[\u001b[0m\u001b[0;36m6\u001b[0m\u001b[0;34m]\u001b[0m\u001b[0;34m,\u001b[0m \u001b[0mtoken_lang\u001b[0m\u001b[0;34m)\u001b[0m\u001b[0;34m\u001b[0m\u001b[0;34m\u001b[0m\u001b[0m\n\u001b[0m\u001b[1;32m     32\u001b[0m         \u001b[0mobj_desc\u001b[0m  \u001b[0;34m=\u001b[0m \u001b[0mkeep_first_two_sentences\u001b[0m\u001b[0;34m(\u001b[0m\u001b[0mrow\u001b[0m\u001b[0;34m[\u001b[0m\u001b[0;36m7\u001b[0m\u001b[0;34m]\u001b[0m\u001b[0;34m,\u001b[0m \u001b[0mtoken_lang\u001b[0m\u001b[0;34m)\u001b[0m\u001b[0;34m\u001b[0m\u001b[0;34m\u001b[0m\u001b[0m\n\u001b[1;32m     33\u001b[0m         \u001b[0mwriter\u001b[0m\u001b[0;34m.\u001b[0m\u001b[0mwriterow\u001b[0m\u001b[0;34m(\u001b[0m\u001b[0mrow\u001b[0m\u001b[0;34m[\u001b[0m\u001b[0;34m:\u001b[0m\u001b[0;36m6\u001b[0m\u001b[0;34m]\u001b[0m \u001b[0;34m+\u001b[0m \u001b[0;34m[\u001b[0m\u001b[0msubj_desc\u001b[0m\u001b[0;34m,\u001b[0m \u001b[0mobj_desc\u001b[0m\u001b[0;34m]\u001b[0m\u001b[0;34m)\u001b[0m\u001b[0;34m\u001b[0m\u001b[0;34m\u001b[0m\u001b[0m\n",
            "\u001b[0;32m/tmp/ipython-input-2-1921213924.py\u001b[0m in \u001b[0;36mkeep_first_two_sentences\u001b[0;34m(text, lang)\u001b[0m\n\u001b[1;32m      6\u001b[0m \u001b[0;34m\u001b[0m\u001b[0m\n\u001b[1;32m      7\u001b[0m \u001b[0;32mdef\u001b[0m \u001b[0mkeep_first_two_sentences\u001b[0m\u001b[0;34m(\u001b[0m\u001b[0mtext\u001b[0m\u001b[0;34m,\u001b[0m \u001b[0mlang\u001b[0m\u001b[0;34m)\u001b[0m\u001b[0;34m:\u001b[0m\u001b[0;34m\u001b[0m\u001b[0;34m\u001b[0m\u001b[0m\n\u001b[0;32m----> 8\u001b[0;31m     \u001b[0msentences\u001b[0m \u001b[0;34m=\u001b[0m \u001b[0msent_tokenize\u001b[0m\u001b[0;34m(\u001b[0m\u001b[0mtext\u001b[0m\u001b[0;34m,\u001b[0m \u001b[0mlanguage\u001b[0m\u001b[0;34m=\u001b[0m\u001b[0mlang\u001b[0m\u001b[0;34m)\u001b[0m\u001b[0;34m\u001b[0m\u001b[0;34m\u001b[0m\u001b[0m\n\u001b[0m\u001b[1;32m      9\u001b[0m     \u001b[0;32mreturn\u001b[0m \u001b[0;34m\" \"\u001b[0m\u001b[0;34m.\u001b[0m\u001b[0mjoin\u001b[0m\u001b[0;34m(\u001b[0m\u001b[0msentences\u001b[0m\u001b[0;34m[\u001b[0m\u001b[0;34m:\u001b[0m\u001b[0;36m2\u001b[0m\u001b[0;34m]\u001b[0m\u001b[0;34m)\u001b[0m\u001b[0;34m\u001b[0m\u001b[0;34m\u001b[0m\u001b[0m\n\u001b[1;32m     10\u001b[0m \u001b[0;34m\u001b[0m\u001b[0m\n",
            "\u001b[0;32m/usr/local/lib/python3.11/dist-packages/nltk/tokenize/__init__.py\u001b[0m in \u001b[0;36msent_tokenize\u001b[0;34m(text, language)\u001b[0m\n\u001b[1;32m    117\u001b[0m     \u001b[0;34m:\u001b[0m\u001b[0mparam\u001b[0m \u001b[0mlanguage\u001b[0m\u001b[0;34m:\u001b[0m \u001b[0mthe\u001b[0m \u001b[0mmodel\u001b[0m \u001b[0mname\u001b[0m \u001b[0;32min\u001b[0m \u001b[0mthe\u001b[0m \u001b[0mPunkt\u001b[0m \u001b[0mcorpus\u001b[0m\u001b[0;34m\u001b[0m\u001b[0;34m\u001b[0m\u001b[0m\n\u001b[1;32m    118\u001b[0m     \"\"\"\n\u001b[0;32m--> 119\u001b[0;31m     \u001b[0mtokenizer\u001b[0m \u001b[0;34m=\u001b[0m \u001b[0m_get_punkt_tokenizer\u001b[0m\u001b[0;34m(\u001b[0m\u001b[0mlanguage\u001b[0m\u001b[0;34m)\u001b[0m\u001b[0;34m\u001b[0m\u001b[0;34m\u001b[0m\u001b[0m\n\u001b[0m\u001b[1;32m    120\u001b[0m     \u001b[0;32mreturn\u001b[0m \u001b[0mtokenizer\u001b[0m\u001b[0;34m.\u001b[0m\u001b[0mtokenize\u001b[0m\u001b[0;34m(\u001b[0m\u001b[0mtext\u001b[0m\u001b[0;34m)\u001b[0m\u001b[0;34m\u001b[0m\u001b[0;34m\u001b[0m\u001b[0m\n\u001b[1;32m    121\u001b[0m \u001b[0;34m\u001b[0m\u001b[0m\n",
            "\u001b[0;32m/usr/local/lib/python3.11/dist-packages/nltk/tokenize/__init__.py\u001b[0m in \u001b[0;36m_get_punkt_tokenizer\u001b[0;34m(language)\u001b[0m\n\u001b[1;32m    103\u001b[0m     \u001b[0;34m:\u001b[0m\u001b[0mtype\u001b[0m \u001b[0mlanguage\u001b[0m\u001b[0;34m:\u001b[0m \u001b[0mstr\u001b[0m\u001b[0;34m\u001b[0m\u001b[0;34m\u001b[0m\u001b[0m\n\u001b[1;32m    104\u001b[0m     \"\"\"\n\u001b[0;32m--> 105\u001b[0;31m     \u001b[0;32mreturn\u001b[0m \u001b[0mPunktTokenizer\u001b[0m\u001b[0;34m(\u001b[0m\u001b[0mlanguage\u001b[0m\u001b[0;34m)\u001b[0m\u001b[0;34m\u001b[0m\u001b[0;34m\u001b[0m\u001b[0m\n\u001b[0m\u001b[1;32m    106\u001b[0m \u001b[0;34m\u001b[0m\u001b[0m\n\u001b[1;32m    107\u001b[0m \u001b[0;34m\u001b[0m\u001b[0m\n",
            "\u001b[0;32m/usr/local/lib/python3.11/dist-packages/nltk/tokenize/punkt.py\u001b[0m in \u001b[0;36m__init__\u001b[0;34m(self, lang)\u001b[0m\n\u001b[1;32m   1742\u001b[0m     \u001b[0;32mdef\u001b[0m \u001b[0m__init__\u001b[0m\u001b[0;34m(\u001b[0m\u001b[0mself\u001b[0m\u001b[0;34m,\u001b[0m \u001b[0mlang\u001b[0m\u001b[0;34m=\u001b[0m\u001b[0;34m\"english\"\u001b[0m\u001b[0;34m)\u001b[0m\u001b[0;34m:\u001b[0m\u001b[0;34m\u001b[0m\u001b[0;34m\u001b[0m\u001b[0m\n\u001b[1;32m   1743\u001b[0m         \u001b[0mPunktSentenceTokenizer\u001b[0m\u001b[0;34m.\u001b[0m\u001b[0m__init__\u001b[0m\u001b[0;34m(\u001b[0m\u001b[0mself\u001b[0m\u001b[0;34m)\u001b[0m\u001b[0;34m\u001b[0m\u001b[0;34m\u001b[0m\u001b[0m\n\u001b[0;32m-> 1744\u001b[0;31m         \u001b[0mself\u001b[0m\u001b[0;34m.\u001b[0m\u001b[0mload_lang\u001b[0m\u001b[0;34m(\u001b[0m\u001b[0mlang\u001b[0m\u001b[0;34m)\u001b[0m\u001b[0;34m\u001b[0m\u001b[0;34m\u001b[0m\u001b[0m\n\u001b[0m\u001b[1;32m   1745\u001b[0m \u001b[0;34m\u001b[0m\u001b[0m\n\u001b[1;32m   1746\u001b[0m     \u001b[0;32mdef\u001b[0m \u001b[0mload_lang\u001b[0m\u001b[0;34m(\u001b[0m\u001b[0mself\u001b[0m\u001b[0;34m,\u001b[0m \u001b[0mlang\u001b[0m\u001b[0;34m=\u001b[0m\u001b[0;34m\"english\"\u001b[0m\u001b[0;34m)\u001b[0m\u001b[0;34m:\u001b[0m\u001b[0;34m\u001b[0m\u001b[0;34m\u001b[0m\u001b[0m\n",
            "\u001b[0;32m/usr/local/lib/python3.11/dist-packages/nltk/tokenize/punkt.py\u001b[0m in \u001b[0;36mload_lang\u001b[0;34m(self, lang)\u001b[0m\n\u001b[1;32m   1747\u001b[0m         \u001b[0;32mfrom\u001b[0m \u001b[0mnltk\u001b[0m\u001b[0;34m.\u001b[0m\u001b[0mdata\u001b[0m \u001b[0;32mimport\u001b[0m \u001b[0mfind\u001b[0m\u001b[0;34m\u001b[0m\u001b[0;34m\u001b[0m\u001b[0m\n\u001b[1;32m   1748\u001b[0m \u001b[0;34m\u001b[0m\u001b[0m\n\u001b[0;32m-> 1749\u001b[0;31m         \u001b[0mlang_dir\u001b[0m \u001b[0;34m=\u001b[0m \u001b[0mfind\u001b[0m\u001b[0;34m(\u001b[0m\u001b[0;34mf\"tokenizers/punkt_tab/{lang}/\"\u001b[0m\u001b[0;34m)\u001b[0m\u001b[0;34m\u001b[0m\u001b[0;34m\u001b[0m\u001b[0m\n\u001b[0m\u001b[1;32m   1750\u001b[0m         \u001b[0mself\u001b[0m\u001b[0;34m.\u001b[0m\u001b[0m_params\u001b[0m \u001b[0;34m=\u001b[0m \u001b[0mload_punkt_params\u001b[0m\u001b[0;34m(\u001b[0m\u001b[0mlang_dir\u001b[0m\u001b[0;34m)\u001b[0m\u001b[0;34m\u001b[0m\u001b[0;34m\u001b[0m\u001b[0m\n\u001b[1;32m   1751\u001b[0m         \u001b[0mself\u001b[0m\u001b[0;34m.\u001b[0m\u001b[0m_lang\u001b[0m \u001b[0;34m=\u001b[0m \u001b[0mlang\u001b[0m\u001b[0;34m\u001b[0m\u001b[0;34m\u001b[0m\u001b[0m\n",
            "\u001b[0;32m/usr/local/lib/python3.11/dist-packages/nltk/data.py\u001b[0m in \u001b[0;36mfind\u001b[0;34m(resource_name, paths)\u001b[0m\n\u001b[1;32m    577\u001b[0m     \u001b[0msep\u001b[0m \u001b[0;34m=\u001b[0m \u001b[0;34m\"*\"\u001b[0m \u001b[0;34m*\u001b[0m \u001b[0;36m70\u001b[0m\u001b[0;34m\u001b[0m\u001b[0;34m\u001b[0m\u001b[0m\n\u001b[1;32m    578\u001b[0m     \u001b[0mresource_not_found\u001b[0m \u001b[0;34m=\u001b[0m \u001b[0;34mf\"\\n{sep}\\n{msg}\\n{sep}\\n\"\u001b[0m\u001b[0;34m\u001b[0m\u001b[0;34m\u001b[0m\u001b[0m\n\u001b[0;32m--> 579\u001b[0;31m     \u001b[0;32mraise\u001b[0m \u001b[0mLookupError\u001b[0m\u001b[0;34m(\u001b[0m\u001b[0mresource_not_found\u001b[0m\u001b[0;34m)\u001b[0m\u001b[0;34m\u001b[0m\u001b[0;34m\u001b[0m\u001b[0m\n\u001b[0m\u001b[1;32m    580\u001b[0m \u001b[0;34m\u001b[0m\u001b[0m\n\u001b[1;32m    581\u001b[0m \u001b[0;34m\u001b[0m\u001b[0m\n",
            "\u001b[0;31mLookupError\u001b[0m: \n**********************************************************************\n  Resource \u001b[93mpunkt_tab\u001b[0m not found.\n  Please use the NLTK Downloader to obtain the resource:\n\n  \u001b[31m>>> import nltk\n  >>> nltk.download('punkt_tab')\n  \u001b[0m\n  For more information see: https://www.nltk.org/data.html\n\n  Attempted to load \u001b[93mtokenizers/punkt_tab/russian/\u001b[0m\n\n  Searched in:\n    - '/root/nltk_data'\n    - '/usr/nltk_data'\n    - '/usr/share/nltk_data'\n    - '/usr/lib/nltk_data'\n    - '/usr/share/nltk_data'\n    - '/usr/local/share/nltk_data'\n    - '/usr/lib/nltk_data'\n    - '/usr/local/lib/nltk_data'\n**********************************************************************\n"
          ]
        }
      ]
    },
    {
      "cell_type": "markdown",
      "source": [],
      "metadata": {
        "id": "gFRokvN5RbQo"
      }
    },
    {
      "cell_type": "code",
      "source": [
        "import pandas as pd\n",
        "\n",
        "# File paths\n",
        "test_csv_path = 'wikidata5m_multiling_de_42k_test.csv'\n",
        "tsv_path = 'wikidata5m_top200_de_42k_descriptions_truncated.tsv'\n",
        "\n",
        "# Load test CSV\n",
        "test_df = pd.read_csv(test_csv_path)\n",
        "desc_df = pd.read_csv(tsv_path, sep='\\t')\n",
        "\n",
        "# Merge ONLY those subject/object pairs that are in the test set\n",
        "# Build a unique set of (subject, object) from test set\n",
        "test_pairs = set(zip(test_df['subject'], test_df['object']))\n",
        "\n",
        "# Filter the metadata file to only include rows matching the test subject/object label pairs\n",
        "filtered_desc_df = desc_df[desc_df.apply(\n",
        "    lambda row: (row['subject_label'], row['object_label']) in test_pairs, axis=1)]\n",
        "\n",
        "# Optional: merge back to ensure alignment with test_df order (not strictly needed for counting)\n",
        "merged_df = test_df.merge(\n",
        "    filtered_desc_df,\n",
        "    left_on=['subject', 'object'],\n",
        "    right_on=['subject_label', 'object_label'],\n",
        "    how='left'  # we still want the test size preserved\n",
        ")\n",
        "\n",
        "# Ensure no row inflation\n",
        "print(f\"✅ Test set size: {len(test_df)}\")\n",
        "print(f\"✅ Merged set size: {len(merged_df)}\")\n",
        "\n",
        "# Count stats based only on successfully matched rows\n",
        "matched = merged_df.dropna(subset=['relation_id'])  # Only rows where a match was found\n",
        "\n",
        "num_unique_relations = matched['relation_id'].nunique()\n",
        "num_unique_subjects = matched['subject_id'].nunique()\n",
        "num_unique_objects = matched['object_id'].nunique()\n",
        "num_unique_entities = len(set(matched['subject_id']).union(set(matched['object_id'])))\n",
        "num_unique_triples = matched[['subject_id', 'relation_id', 'object_id']].nunique()\n",
        "\n",
        "# Final output\n",
        "print(f\"✅ Number of unique relations: {num_unique_relations}\")\n",
        "print(f\"✅ Number of unique subjects: {num_unique_subjects}\")\n",
        "print(f\"✅ Number of unique objects: {num_unique_objects}\")\n",
        "print(f\"✅ Total unique entities (subjects + objects): {num_unique_entities}\")\n",
        "print(f\"✅ Number of unique triples: {num_unique_triples}\")\n"
      ],
      "metadata": {
        "colab": {
          "base_uri": "https://localhost:8080/"
        },
        "id": "XVs0q17Nb44U",
        "outputId": "dc3140ac-e117-416f-83a2-fb80bbb1d9c8"
      },
      "execution_count": 8,
      "outputs": [
        {
          "output_type": "stream",
          "name": "stdout",
          "text": [
            "✅ Test set size: 4198\n",
            "✅ Merged set size: 4228\n",
            "✅ Number of unique relations: 196\n",
            "✅ Number of unique subjects: 4201\n",
            "✅ Number of unique objects: 2407\n",
            "✅ Total unique entities (subjects + objects): 6570\n",
            "✅ Number of unique triples: subject_id     4201\n",
            "relation_id     196\n",
            "object_id      2407\n",
            "dtype: int64\n"
          ]
        }
      ]
    },
    {
      "cell_type": "code",
      "source": [
        "import nltk\n",
        "from nltk.tokenize import sent_tokenize\n",
        "import csv\n",
        "\n",
        "nltk.download(\"punkt\")  # one global download is sufficient\n",
        "\n",
        "def keep_first_two_sentences(text, lang):\n",
        "    sentences = sent_tokenize(text, language=lang)\n",
        "    return \" \".join(sentences[:2])\n",
        "\n",
        "# Set file paths (example for German)\n",
        "lang_code    = \"ru\"  # \"en\", \"de\", or \"ru\"\n",
        "input_file   = f\"wikidata5m_top200_{lang_code}_42k_descriptions.tsv\"\n",
        "output_file  = f\"wikidata5m_top200_{lang_code}_42k_descriptions_truncated.tsv\"\n",
        "\n",
        "language_map = {\"en\": \"english\", \"de\": \"german\", \"ru\": \"russian\"}\n",
        "token_lang   = language_map[lang_code]\n",
        "\n",
        "malformed_count = 0  # initialize counter\n",
        "\n",
        "with open(input_file, encoding=\"utf-8\") as infile, \\\n",
        "     open(output_file, \"w\", encoding=\"utf-8\", newline=\"\") as outfile:\n",
        "\n",
        "    reader = csv.reader(infile, delimiter=\"\\t\")\n",
        "    writer = csv.writer(outfile, delimiter=\"\\t\")\n",
        "\n",
        "    header = next(reader)\n",
        "    writer.writerow(header)\n",
        "\n",
        "    for i, row in enumerate(reader, start=2):  # start=2 to account for header line\n",
        "        if len(row) != 8:\n",
        "            malformed_count += 1\n",
        "            print(f\"🚫 Malformed row {i} (length {len(row)}):\", row)\n",
        "            continue\n",
        "        subj_desc = keep_first_two_sentences(row[6], token_lang)\n",
        "        obj_desc  = keep_first_two_sentences(row[7], token_lang)\n",
        "        writer.writerow(row[:6] + [subj_desc, obj_desc])\n",
        "\n",
        "print(\"✅ Truncated dataset saved:\", output_file)\n",
        "print(f\"⚠️ Skipped malformed rows: {malformed_count}\")\n"
      ],
      "metadata": {
        "colab": {
          "base_uri": "https://localhost:8080/"
        },
        "id": "IKNOi7A7C2D0",
        "outputId": "119ec3ac-8678-43e2-d2b5-9ea9de9d36e7"
      },
      "execution_count": 15,
      "outputs": [
        {
          "output_type": "stream",
          "name": "stderr",
          "text": [
            "[nltk_data] Downloading package punkt to /root/nltk_data...\n",
            "[nltk_data]   Package punkt is already up-to-date!\n"
          ]
        },
        {
          "output_type": "stream",
          "name": "stdout",
          "text": [
            "🚫 Malformed row 2373 (length 65): ['Q4085919', 'Бестях', 'P31', 'это частный случай понятия', 'Q532', 'село', \"Бестя́х\\xa0— топоним в Якутии.Бестях\\xa0— река, левый приток Лены. Бестях\\xa0— село в Жиганском улусе Якутии. Бестях\\xa0— село в Хангаласском улусе Якутии. Бестях\\xa0— река, левый приток р. Ундюлюнг, координаты 65°54'\", \"125°09'. Бестях\\xa0— озеро, на правом берегу нижнего течения р. Ундюлюнг, юго-западнее озера Аччыгый-Сыалах, координаты 66°16'\", \"124°30'. Бестях\\xa0— река, правый приток р. Ундюлюнг, координаты 66°06'\", \"124°51'. Бестях\\xa0— река, правый приток р. Хоруонгка, координаты 66°18'\", \"122°16'. Бестях\\xa0— река, правый приток р. Ходусалах, координаты 66°02'\", \"123°03'. Бестях\\xa0— река, левый приток р. Баты-Куонара-Сяне, координаты 66°42'\", \"122°09'. Бестях\\xa0— река, правый приток р. Эмпере, координаты 65°19'\", \"119°07'. Бестях\\xa0— река, правый приток р. Хання, координаты 65°11'\", \"116°52'. Бестях\\xa0— падь в верховье р. Бестях, координаты 65°06'\", \"118°43'. Бестях\\xa0— река, правый приток р. Тенгкелях, координаты 65°11'\", \"118°40'. Бестях\\xa0— река, левый приток р. Бурут-Сяне, координаты 66°59'\", \"122°39'. Бестях\\xa0— река, левый приток р. Тирехтях, координаты 66°17'\", \"124°48'. Бестях\\xa0— озеро, на левом берегу среднего течения р. Диппа, координаты 64°29' 121°31'. Бестях\\xa0— река, правый приток р. Линде, координаты 65°01'\", \"123°01'. Бестях\\xa0— река, левый приток р. Кем-Юрях, координаты 64°16'\", \"117°48'. Бестях\\xa0— река, правый приток р. Бахынай, координаты 65°54'\", \"123°41'. Бестях\\xa0— река, правый приток р. Тяня, координаты 59°01'\", \"119°55'. Бестях\\xa0— река, правый приток р. Куччугуй-Сугжу, координаты 59°15'\", \"118°55'. Бестях\\xa0— река, правый приток р. Сюкдю, координаты 59°38'\", \"120°52'. Бестях\\xa0— река, правый приток р. Бугарытта, координаты 59°28'\", \"123°34'. Бестях\\xa0— река, левый приток р. Тяня, координаты 58°41'\", \"120°29'. Бестях\\xa0— река, левый приток р. Улахан-Дикимде, координаты 59°06'\", \"122°09'. Бестях\\xa0— река, левый приток р. Верхний Метрополь, координаты 57°46'\", \"131°29'. Бестях\\xa0— падь на левом берегу р. Чабда, координаты 59°38'\", \"134°23'. Бестях\\xa0— река, левый приток р. Амга, координаты 59°49'\", \"128°35'. Бестях\\xa0— урочище, в правобережье р. Кенгкеме, координаты 61°50'\", \"128°42'. Бестях\\xa0— река, левый приток р. Дянгых, координаты 61°05'\", \"129°46'. Бестях\\xa0— река, правый приток р. Бала-Балы, координаты 62°11'\", \"135°07'. Бестях\\xa0— река, правый приток р. Бёрё-Уялах, координаты 62°35'\", \"133°53'. Бестях\\xa0— река, левый приток р. Молбо, координаты 59°39'\", \"119°15'. Бестях\\xa0— река, правый приток р. Амга, координаты 60°35'\", \"131°27'. Бестях\\xa0— урочище, северо-западнее истока р. Бестях-Юрях, координаты 60°43'\", \"131°30'. Бестях\\xa0— урочище, в правобережье р. Кенгкеме, координаты 62°36'\", \"129°18'. Бестях\\xa0— урочище, на правом берегу р. Кенгкеме, координаты 62°34'\", \"129°16'. Бестях\\xa0— урочище, на левом берегу р. Быракан, координаты 63°27'\", \"121°04'. Бестях —остров, в русле р. Лена координаты 62°12'\", \"129°58'. Бестях\\xa0— урочище, на о. Эселях, в русле р. Лена, координаты 62°09'\", \"129°57'. Бестях\\xa0— озеро, в правобережье р. Тамма, координаты 61°37'\", \"130°01'. Бестях\\xa0— река, правый приток р. Тарын, координаты 60°10'\", \"120°48'. Бестях\\xa0— озеро, на левом берегу р. Бестях, координаты 61°37'\", \"128°15'. Бестях\\xa0— урочище, в правобережье р. Кенгкеме, координаты 62°50'\", \"129°04'. Бестях\\xa0— озеро, в левобережье р. Алдан, координаты 63°19'\", \"131°25'. Бестях\\xa0— озеро, на левом берегу р. Лена, северо-восточнее оз. Белое, координаты 63°28'\", \"129°07'. Бестях\\xa0— озеро, в левобережье р. Лена, южнее оз. Улахан-Тюгене, координаты 63°11'\", \"129°17'. Бестях\\xa0— река, правый приток р. Киенг-Толон-Юряге, координаты 63°27'\", \"126°44'. Бестях\\xa0— озеро, на левом берегу р. Лена, координаты 63°35'\", \"128°03'. Бестях\\xa0— озеро, в правобережье р. Ханчылы, координаты 62°39'\", \"128°49'. Бестях\\xa0— озеро, в правобережье р. Бестях-Юрях, координаты 64°01'\", \"126°25'. Бестях\\xa0— озеро, на левом берегу среднего течения р. Лена, координаты 64°22'\", \"126°20'. Бестях\\xa0— река, левый приток р. Кюэнелекян, координаты 68°24'\", \"110°54'. Бестях\\xa0— урочище, на правом берегу р. Оркютей, координаты 63°51'\", \"114°43'. Бестях\\xa0— урочище, в правобережье р. Хотугу-Дюнкун, координаты 62°35'\", \"112°11'. Бестях\\xa0— озеро, на правом берегу р. Марха, координаты 63°31'\", \"118°44'. Бестях\\xa0— озеро, на левом берегу р. Лена, южнее оз. Баргы, координаты 63°32'\", \"128°07'. Бестях\\xa0— река, левый приток р. Улахан-Мурбайы, координаты 61°14'\", \"113°51'. Бестях\\xa0— река, левый приток р. Уэль-Тымпычан, координаты 60°29'\", \"110°36'. Бестях\\xa0— река, левый приток р. Амга, координаты 58°25'\", \"122°32'. Бестях\\xa0— река, впадает слева в протоку Ус-Буолбут, координаты 65°18'\", \"124°09'.\", 'Село́\\xa0— один из видов населённых пунктов России, Украины, Беларуси, Казахстана, Молдавии, Болгарии, Румынии, Боснии и Герцеговины и Израиля, относящийся к так называемым сельским населённым пунктам. Ранее тип крестьянского поселения.']\n",
            "🚫 Malformed row 7952 (length 9): ['Q4102595', 'Утако Вакамацу', 'P27', 'гражданство', 'Q16', 'Канада', 'Утако Вакамацу (яп. ', '若松 詩子 Вакамацу Утако, ромадзи: Wakamatsu Utako; род. 1\\xa0сентября 1981 года)\\xa0— фигуристка, выступавшая в одиночном катании за Японию, а затем за Канаду в паре с Жаном-Себастьяном Фекто.', 'Кана́да\\xa0— государство в Северной Америке, крупнейшее по площади на этом континенте и второе по площади в мире. По численности населения 37-е государство в мире. Плотность населения является одной из самых низких в мире. Омывается Атлантическим, Тихим и Северным Ледовитым океанами, имея самую длинную береговую линию в мире. Граничит с Соединёнными Штатами Америки на юге и на северо-западе (Аляска) и с Данией на северо-востоке, имеет морскую границу с Францией на востоке. Граница Канады и США является самой протяжённой общей границей в мире.']\n",
            "🚫 Malformed row 22954 (length 9): ['Q25714343', '5 км', 'P421', 'часовой пояс', 'Q2332010', 'МСК+2', '5 км, 5-й киломе́тр, Пя́тый киломе́тр может означать:железнодорожные объекты5 км\\xa0— железнодорожная платформа на линии Брянск — Гомель, Московская железная дорога, расположенная в Фокинском районе города Брянска. Код 200017 5 км\\xa0— заброшенный остановочный пункт на однопутной линии Выборг — Вещево, в Выборгском районе Ленинградской области, входит в черту города Выборга. 5 км\\xa0— платформа во Всеволожском районе Ленинградской области. пост 5 км, пост Пятый Километр — платформа в Санкт-Петербурге. ', 'Код 037043 5 км — остановочный пункт / пассажирская платформа, Забайкальская железная дорога. Код 948116 5 км — остановочный пункт / пассажирская платформа, Забайкальская железная дорога. Код 950012 5 км — пассажирская платформа, Западно-Сибирская железная дорога. Код 871234 5 км — остановочный пункт / пассажирская платформа, Московская железная дорога. Код 216477 5 км — остановочный пункт / пассажирская платформа, Московская железная дорога. Код 202070 5 км — остановочный пункт / пассажирская платформа, Московская железная дорога. Код 174359 5 км — остановочный пункт / пассажирская платформа, Московская железная дорога. Код 206225 5 км — остановочный пункт / пассажирская платформа, Октябрьская железная дорога. Код 022122 5 км — пассажирская платформа, Октябрьская железная дорога. Код 018447 5 км — пассажирская платформа, Октябрьская железная дорога. Код 017923 5 км — остановочный пункт / пассажирская платформа, Северо-Кавказская железная дорога. Код 510083 5 км — пассажирская платформа, Юго-Восточная железная дорога. Код 607522 5 км — остановочный пункт / пассажирская платформа, Южно-Уральская железная дорога, участок Сакмарская — Оренбург. Код 811924 5 км — остановочный пункт / пассажирская платформа, Южно-Уральская железная дорога, участок Челябинск-Главный — Еманжелинск. Код 8005395 км — пассажирская платформа, Львовская железная дорога. Код 356615 5 км — пассажирская платформа, Львовская железная дорога. Код 373339 5 км — остановочный пункт / пассажирская платформа, Южная железная дорога, участок Основа — Купянск-Сортировочный. Код 4310175 км — пассажирская платформа, Азербайджанская железная дорога. Код 5565135 км — пассажирская платформа, Грузинская железная дорога. Код 5760235 км — остановочный пункт / пассажирская платформа, Приднестровская железная дорога. Код 456832 5 км — остановочный пункт / пассажирская платформа, Приднестровская железная дорога. Код 4711375 км — остановочный пункт / пассажирская платформа, Донецкая железная дорога. Код 483223 5 км — остановочный пункт / пассажирская платформа, Донецкая железная дорога. Код 483632населённые пунктыПятый Километр\\xa0— посёлок при станции во Всеволожском районе Ленинградской области.   5 км\\xa0— посёлок в Пермском крае. Пятый Километр\\xa0— посёлок Каргасокского сельского поселения Томской области. 5 км Аннинской Ветки — упразднённый населённый пункт, находившийся в подчинении администрации пгт Краснолесный городского округа город Воронеж Воронежской области.', 'МСК+2, московское время плюс 2 часа\\xa0— время 4-й часовой зоны России, соответствует UTC+5. Используется также неофициальное название «екатеринбургское время».']\n",
            "🚫 Malformed row 23965 (length 9): ['Q2613186', 'Zoarces fedorovi', 'P105', 'таксономический ранг', 'Q7432', 'вид', 'Бельдюга Фёдорова\\xa0— вид морских мягкокожих рыб из семейства бельдюговых (Zoarcidae). Обнаружены в северной части Охотского моря. Максимальная длина — 23,0 см (самцы) и 31,5 см (самки); вес 92—154 г. Имеют 102—108 позвонков. Встречаются на глубине до 10 м. Найден под камнями в протоках реки во время отлива и описан в 2007 году сотрудниками ', 'Института биологических проблем Севера ДВО РАН и назван в честь советского ихтиолога Владимира Владимировича Федорова, внёсшего большой вклад в изучение систематики бельдюговых рыб и ихтиофауны морей Дальнего Востока.', 'Вид:Биологический вид\\xa0— основная единица биологической систематики. Вид (лингвистика)\\xa0— грамматическая категория. Вид (логика)\\xa0— категория частного. Вид вооружённых сил\\xa0— составная часть вооружённых сил. Вид на жительство\\xa0— документ.']\n",
            "🚫 Malformed row 30923 (length 9): ['Q12652', 'Мозель', 'P150', 'административно делится на', 'Q21948', 'Дантен', 'Мозе́ль\\xa0— река во Франции, Люксембурге и Германии, левый приток Рейна. Протяжённость\\xa0— 544\\xa0км, площадь бассейна 28 286 км².', 'Данте́н', ' — коммуна во французском департаменте Мозель региона Лотарингия. Относится к кантону Буле-Мозель.']\n",
            "✅ Truncated dataset saved: wikidata5m_top200_ru_42k_descriptions_truncated.tsv\n",
            "⚠️ Skipped malformed rows: 5\n"
          ]
        }
      ]
    }
  ]
}